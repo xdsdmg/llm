{
 "cells": [
  {
   "cell_type": "markdown",
   "id": "84cbec91-8ddc-485f-93c9-adb9187e3185",
   "metadata": {},
   "source": [
    "# 分词"
   ]
  },
  {
   "cell_type": "markdown",
   "id": "35810f98-f7e7-4920-954f-efc3867ade58",
   "metadata": {},
   "source": [
    "基本思路：构建一个词表，通过词表一一映射，进行分词。"
   ]
  },
  {
   "cell_type": "code",
   "execution_count": 9,
   "id": "15772b82-138c-45ad-9561-f32669bf4c49",
   "metadata": {},
   "outputs": [
    {
     "name": "stdout",
     "output_type": "stream",
     "text": [
      "stats: {'我': 1, '喜欢': 2, '吃': 2, '苹果': 1, '他': 1, '不': 1, '苹果派': 1, 'I': 1, 'like': 1, 'to': 1, 'eat': 1, 'apples': 1, 'She': 1, 'has': 1, 'a': 2, 'cute': 2, 'cat': 1, 'you': 2, 'are': 1, 'very': 1, 'give': 1, 'hug': 1}\n",
      "alphabet: ['I', 'S', 'a', 'c', 'e', 'g', 'h', 'i', 'k', 'l', 'o', 'p', 'r', 's', 't', 'u', 'v', 'y', '不', '他', '吃', '喜', '我', '果', '欢', '派', '苹']\n",
      "splits: {'我': ['我'], '喜欢': ['喜', '##欢'], '吃': ['吃'], '苹果': ['苹', '##果'], '他': ['他'], '不': ['不'], '苹果派': ['苹', '##果', '##派'], 'I': ['I'], 'like': ['l', '##i', '##k', '##e'], 'to': ['t', '##o'], 'eat': ['e', '##a', '##t'], 'apples': ['a', '##p', '##p', '##l', '##e', '##s'], 'She': ['S', '##h', '##e'], 'has': ['h', '##a', '##s'], 'a': ['a'], 'cute': ['c', '##u', '##t', '##e'], 'cat': ['c', '##a', '##t'], 'you': ['y', '##o', '##u'], 'are': ['a', '##r', '##e'], 'very': ['v', '##e', '##r', '##y'], 'give': ['g', '##i', '##v', '##e'], 'hug': ['h', '##u', '##g']}\n"
     ]
    }
   ],
   "source": [
    "sentences = [\n",
    "    \"我\",\n",
    "    \"喜欢\",\n",
    "    \"吃\",\n",
    "    \"苹果\",\n",
    "    \"他\",\n",
    "    \"不\",\n",
    "    \"喜欢\",\n",
    "    \"吃\",\n",
    "    \"苹果派\",\n",
    "    \"I like to eat apples\",\n",
    "    \"She has a cute cat\",\n",
    "    \"you are very cute\",\n",
    "    \"give you a hug\"\n",
    "]\n",
    "\n",
    "\n",
    "def build_stats(sentences: list[str]) -> dict:\n",
    "    stats = {}\n",
    "\n",
    "    for sentence in sentences:\n",
    "        symbols = sentence.split()\n",
    "        for symbol in symbols:\n",
    "            stats[symbol] = 1 if symbol not in stats else stats[symbol] + 1\n",
    "            \n",
    "    return stats\n",
    "\n",
    "stats = build_stats(sentences)\n",
    "print(f\"stats: {stats}\")\n",
    "\n",
    "alphabet = []\n",
    "for word in stats.keys():\n",
    "    for letter in word:\n",
    "        if letter not in alphabet:\n",
    "            alphabet.append(letter)\n",
    "alphabet.sort()\n",
    "print(f\"alphabet: {alphabet}\")\n",
    "\n",
    "splits = {\n",
    "    word: [c if i == 0 else f\"##{c}\" for i, c in enumerate(word)]\n",
    "    for word in stats.keys()\n",
    "}\n",
    "print(f\"splits: {splits}\")\n"
   ]
  }
 ],
 "metadata": {
  "kernelspec": {
   "display_name": "Python 3 (ipykernel)",
   "language": "python",
   "name": "python3"
  },
  "language_info": {
   "codemirror_mode": {
    "name": "ipython",
    "version": 3
   },
   "file_extension": ".py",
   "mimetype": "text/x-python",
   "name": "python",
   "nbconvert_exporter": "python",
   "pygments_lexer": "ipython3",
   "version": "3.12.7"
  }
 },
 "nbformat": 4,
 "nbformat_minor": 5
}
