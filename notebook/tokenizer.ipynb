{
 "cells": [
  {
   "cell_type": "markdown",
   "id": "84cbec91-8ddc-485f-93c9-adb9187e3185",
   "metadata": {},
   "source": [
    "# 分词"
   ]
  },
  {
   "cell_type": "markdown",
   "id": "35810f98-f7e7-4920-954f-efc3867ade58",
   "metadata": {},
   "source": [
    "基本思路：构建一个词表，通过词表一一映射，进行分词。"
   ]
  },
  {
   "cell_type": "markdown",
   "id": "b0bf13a0-af89-4a79-8d33-4382dc331038",
   "metadata": {},
   "source": [
    "## WordPiece\n",
    "\n",
    "$$\n",
    "{\\rm score} = \\frac{N_{{\\rm pair}<{\\rm c}_1, {\\rm c}_2>}}{N_{{\\rm c}_1} \\times N_{{\\rm c}_2}}\n",
    "$$"
   ]
  },
  {
   "cell_type": "code",
   "execution_count": 2,
   "id": "15772b82-138c-45ad-9561-f32669bf4c49",
   "metadata": {},
   "outputs": [
    {
     "name": "stdout",
     "output_type": "stream",
     "text": [
      "stats: {'我': 1, '喜欢': 2, '吃': 2, '苹果': 1, '他': 1, '不': 1, '苹果派': 1, 'I': 1, 'like': 1, 'to': 1, 'eat': 1, 'apples': 1, 'She': 1, 'has': 1, 'a': 2, 'cute': 2, 'cat': 1, 'you': 2, 'are': 1, 'very': 1, 'give': 1, 'hug': 1}\n",
      "alphabet: ['I', 'S', 'a', 'c', 'e', 'g', 'h', 'i', 'k', 'l', 'o', 'p', 'r', 's', 't', 'u', 'v', 'y', '不', '他', '吃', '喜', '我', '果', '欢', '派', '苹']\n",
      "splits: {'我': ['我'], '喜欢': ['喜', '##欢'], '吃': ['吃'], '苹果': ['苹', '##果'], '他': ['他'], '不': ['不'], '苹果派': ['苹', '##果', '##派'], 'I': ['I'], 'like': ['l', '##i', '##k', '##e'], 'to': ['t', '##o'], 'eat': ['e', '##a', '##t'], 'apples': ['a', '##p', '##p', '##l', '##e', '##s'], 'She': ['S', '##h', '##e'], 'has': ['h', '##a', '##s'], 'a': ['a'], 'cute': ['c', '##u', '##t', '##e'], 'cat': ['c', '##a', '##t'], 'you': ['y', '##o', '##u'], 'are': ['a', '##r', '##e'], 'very': ['v', '##e', '##r', '##y'], 'give': ['g', '##i', '##v', '##e'], 'hug': ['h', '##u', '##g']}\n"
     ]
    }
   ],
   "source": [
    "sentences = [\n",
    "    \"我\",\n",
    "    \"喜欢\",\n",
    "    \"吃\",\n",
    "    \"苹果\",\n",
    "    \"他\",\n",
    "    \"不\",\n",
    "    \"喜欢\",\n",
    "    \"吃\",\n",
    "    \"苹果派\",\n",
    "    \"I like to eat apples\",\n",
    "    \"She has a cute cat\",\n",
    "    \"you are very cute\",\n",
    "    \"give you a hug\"\n",
    "]\n",
    "\n",
    "\n",
    "def get_stats(sentences: list[str]) -> dict:\n",
    "    stats = {}\n",
    "\n",
    "    for sentence in sentences:\n",
    "        symbols = sentence.split()\n",
    "        for symbol in symbols:\n",
    "            stats[symbol] = 1 if symbol not in stats else stats[symbol] + 1\n",
    "            \n",
    "    return stats\n",
    "\n",
    "stats = get_stats(sentences)\n",
    "print(f\"stats: {stats}\")\n",
    "\n",
    "\n",
    "def get_alphabet(stats: dict) -> list[chr]:\n",
    "    alphabet = []\n",
    "    for word in stats.keys():\n",
    "        for letter in word:\n",
    "            if letter not in alphabet:\n",
    "                alphabet.append(letter)\n",
    "    alphabet.sort()\n",
    "    return alphabet\n",
    "\n",
    "print(f\"alphabet: {get_alphabet(stats)}\")\n",
    "\n",
    "def get_splits(stats: dict) -> dict:\n",
    "    return {\n",
    "        word: [c if i == 0 else f\"##{c}\" for i, c in enumerate(word)]\n",
    "        for word in stats.keys()\n",
    "    }\n",
    "\n",
    "splits = get_splits(stats) \n",
    "print(f\"splits: {splits}\")\n"
   ]
  },
  {
   "cell_type": "code",
   "execution_count": 4,
   "id": "36f0c156-60e1-499c-8014-4cca959898f1",
   "metadata": {
    "editable": true,
    "slideshow": {
     "slide_type": ""
    },
    "tags": []
   },
   "outputs": [
    {
     "name": "stdout",
     "output_type": "stream",
     "text": [
      "{'我': 1, '喜': 2, '欢': 2, '吃': 2, '苹': 2, '果': 2, '他': 1, '不': 1, '派': 1, 'I': 1, 'l': 2, 'i': 2, 'k': 1, 'e': 9, 't': 5, 'o': 3, 'a': 7, 'p': 2, 's': 2, 'S': 1, 'h': 3, 'c': 3, 'u': 5, 'y': 3, 'r': 2, 'v': 2, 'g': 2}\n",
      "{('喜', '欢'): 0.5, ('苹', '果'): 0.5, ('果', '派'): 0.5, ('l', 'i'): 0.25, ('i', 'k'): 0.5, ('k', 'e'): 0.1111111111111111, ('t', 'o'): 0.06666666666666667, ('e', 'a'): 0.015873015873015872, ('a', 't'): 0.05714285714285714, ('a', 'p'): 0.07142857142857142, ('p', 'p'): 0.25, ('p', 'l'): 0.25, ('l', 'e'): 0.05555555555555555, ('e', 's'): 0.05555555555555555, ('S', 'h'): 0.3333333333333333, ('h', 'e'): 0.037037037037037035, ('h', 'a'): 0.047619047619047616, ('a', 's'): 0.07142857142857142, ('c', 'u'): 0.13333333333333333, ('u', 't'): 0.08, ('t', 'e'): 0.044444444444444446, ('c', 'a'): 0.047619047619047616, ('y', 'o'): 0.2222222222222222, ('o', 'u'): 0.13333333333333333, ('a', 'r'): 0.07142857142857142, ('r', 'e'): 0.05555555555555555, ('v', 'e'): 0.1111111111111111, ('e', 'r'): 0.05555555555555555, ('r', 'y'): 0.16666666666666666, ('g', 'i'): 0.25, ('i', 'v'): 0.25, ('h', 'u'): 0.06666666666666667, ('u', 'g'): 0.1}\n"
     ]
    }
   ],
   "source": [
    "char_freq = {}\n",
    "pair_freq = {}\n",
    "\n",
    "for word, freq in stats.items():\n",
    "    for c in word:\n",
    "        char_freq[c] = char_freq[c] + freq if c in char_freq else freq\n",
    "\n",
    "    l = len(word)\n",
    "    if l == 1:\n",
    "        continue\n",
    "    for i in range(l - 1):\n",
    "        pair = (word[i], word[i+1])\n",
    "        pair_freq[pair] = pair_freq[pair] + freq if pair in pair_freq else freq\n",
    "\n",
    "for pair in pair_freq.keys():\n",
    "    pair_freq[pair] = pair_freq[pair] / (char_freq[pair[0]] * char_freq[pair[1]])\n",
    "    \n",
    "print(char_freq)\n",
    "print(pair_freq)"
   ]
  },
  {
   "cell_type": "code",
   "execution_count": null,
   "id": "6343b9df-8aa3-434c-8f99-963892535297",
   "metadata": {},
   "outputs": [],
   "source": []
  },
  {
   "cell_type": "code",
   "execution_count": null,
   "id": "21b493c2-21c0-467f-8111-bab1327b7761",
   "metadata": {},
   "outputs": [],
   "source": []
  }
 ],
 "metadata": {
  "kernelspec": {
   "display_name": "Python 3 (ipykernel)",
   "language": "python",
   "name": "python3"
  },
  "language_info": {
   "codemirror_mode": {
    "name": "ipython",
    "version": 3
   },
   "file_extension": ".py",
   "mimetype": "text/x-python",
   "name": "python",
   "nbconvert_exporter": "python",
   "pygments_lexer": "ipython3",
   "version": "3.12.7"
  }
 },
 "nbformat": 4,
 "nbformat_minor": 5
}
